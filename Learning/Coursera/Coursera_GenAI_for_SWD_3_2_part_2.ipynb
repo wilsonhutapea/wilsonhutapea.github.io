{
  "cells": [
    {
      "cell_type": "code",
      "execution_count": 5,
      "metadata": {},
      "outputs": [
        {
          "name": "stdout",
          "output_type": "stream",
          "text": [
            "Hello World5\n"
          ]
        }
      ],
      "source": [
        "print(\"Hello World5\")\n"
      ]
    },
    {
      "cell_type": "code",
      "execution_count": 1,
      "metadata": {
        "colab": {
          "base_uri": "https://localhost:8080/"
        },
        "id": "L244DHqUlGrs",
        "outputId": "98a9bd54-e736-4a11-87fd-17efab752fa7"
      },
      "outputs": [
        {
          "name": "stdout",
          "output_type": "stream",
          "text": [
            "database 'ecommerce.db' and its tables created successfully.\n"
          ]
        }
      ],
      "source": [
        "# IMPORT, INIT DB & TABLES\n",
        "import os\n",
        "from sqlalchemy import create_engine, Table, Column, \\\n",
        "    Integer, String, Float, ForeignKey, MetaData, \\\n",
        "    insert, select, update, delete\n",
        "from sqlalchemy.orm import declarative_base, sessionmaker\n",
        "\n",
        "# # Try also:\n",
        "from pydantic import EmailStr\n",
        "\n",
        "# Setup Database\n",
        "\n",
        "DATABASE_FILE = 'ecommerce.db' # file name\n",
        "DATABASE_URL = f\"sqlite:///{DATABASE_FILE}\" # def db url\n",
        "engine = create_engine(DATABASE_URL)\n",
        "metadata = MetaData()\n",
        "\n",
        "# Table Definitions\n",
        "\n",
        "users = Table(\n",
        "    'users', metadata,\n",
        "    Column('id', Integer, primary_key=True),\n",
        "    Column('name', String),\n",
        "    Column('email', String, unique=True)\n",
        ")\n",
        "\n",
        "products = Table(\n",
        "    'products', metadata,\n",
        "    Column('id', Integer, primary_key=True),\n",
        "    Column('name', String)\n",
        ")\n",
        "\n",
        "orders = Table(\n",
        "    'orders', metadata,\n",
        "    Column('id', Integer, primary_key=True),\n",
        "    Column('user_id', Integer, ForeignKey('users.id'))\n",
        ")\n",
        "\n",
        "order_items = Table(\n",
        "    'order_items', metadata,\n",
        "    Column('id', Integer, primary_key=True),\n",
        "    Column('order_id', Integer, ForeignKey('orders.id'), nullable=False),\n",
        "    Column('product_id', Integer, ForeignKey('products.id')),\n",
        "    Column('quantity', Integer, nullable=False)\n",
        ")\n",
        "\n",
        "metadata.create_all(engine)\n",
        "print(f\"database '{DATABASE_FILE}' and its tables created successfully.\")"
      ]
    },
    {
      "cell_type": "markdown",
      "metadata": {
        "id": "xidpH-ut3hPy"
      },
      "source": [
        "# INSERTION"
      ]
    },
    {
      "cell_type": "code",
      "execution_count": 2,
      "metadata": {
        "colab": {
          "base_uri": "https://localhost:8080/",
          "height": 460
        },
        "id": "D_85lJk6ryZn",
        "outputId": "a978f978-df73-41c6-ad64-01cb61824bb3"
      },
      "outputs": [
        {
          "name": "stdout",
          "output_type": "stream",
          "text": [
            "✅ inserted user with ID: 1\n",
            "✅ inserted user with ID: 2\n",
            "✅ inserted product with ID: 1\n",
            "✅ inserted product with ID: 2\n",
            "✅ inserted product with ID: 3\n"
          ]
        },
        {
          "ename": "ValueError",
          "evalue": "not enough values to unpack (expected 2, got 1)",
          "output_type": "error",
          "traceback": [
            "\u001b[0;31m---------------------------------------------------------------------------\u001b[0m",
            "\u001b[0;31mValueError\u001b[0m                                Traceback (most recent call last)",
            "\u001b[0;32m<ipython-input-2-3141910389>\u001b[0m in \u001b[0;36m<cell line: 0>\u001b[0;34m()\u001b[0m\n\u001b[1;32m     65\u001b[0m \u001b[0;31m# insert_new_order(1,order_item)\u001b[0m\u001b[0;34m\u001b[0m\u001b[0;34m\u001b[0m\u001b[0m\n\u001b[1;32m     66\u001b[0m \u001b[0;34m\u001b[0m\u001b[0m\n\u001b[0;32m---> 67\u001b[0;31m \u001b[0minsert_new_order\u001b[0m\u001b[0;34m(\u001b[0m\u001b[0;36m1\u001b[0m\u001b[0;34m,\u001b[0m\u001b[0;34m[\u001b[0m\u001b[0;36m1\u001b[0m\u001b[0;34m]\u001b[0m\u001b[0;34m,\u001b[0m\u001b[0;34m[\u001b[0m\u001b[0;36m1\u001b[0m\u001b[0;34m]\u001b[0m\u001b[0;34m)\u001b[0m\u001b[0;34m\u001b[0m\u001b[0;34m\u001b[0m\u001b[0m\n\u001b[0m\u001b[1;32m     68\u001b[0m \u001b[0minsert_new_order\u001b[0m\u001b[0;34m(\u001b[0m\u001b[0;36m2\u001b[0m\u001b[0;34m,\u001b[0m\u001b[0;34m[\u001b[0m\u001b[0;36m2\u001b[0m\u001b[0;34m,\u001b[0m\u001b[0;36m3\u001b[0m\u001b[0;34m]\u001b[0m\u001b[0;34m,\u001b[0m\u001b[0;34m[\u001b[0m\u001b[0;36m1\u001b[0m\u001b[0;34m,\u001b[0m\u001b[0;36m1\u001b[0m\u001b[0;34m]\u001b[0m\u001b[0;34m)\u001b[0m\u001b[0;34m\u001b[0m\u001b[0;34m\u001b[0m\u001b[0m\n\u001b[1;32m     69\u001b[0m \u001b[0;34m\u001b[0m\u001b[0m\n",
            "\u001b[0;32m<ipython-input-2-3141910389>\u001b[0m in \u001b[0;36minsert_new_order\u001b[0;34m(user_id, product_ids, quantities)\u001b[0m\n\u001b[1;32m     45\u001b[0m \u001b[0;34m\u001b[0m\u001b[0m\n\u001b[1;32m     46\u001b[0m         \u001b[0mcurrent_order_id\u001b[0m \u001b[0;34m=\u001b[0m \u001b[0mres\u001b[0m\u001b[0;34m.\u001b[0m\u001b[0mlastrowid\u001b[0m\u001b[0;34m\u001b[0m\u001b[0;34m\u001b[0m\u001b[0m\n\u001b[0;32m---> 47\u001b[0;31m         \u001b[0mstmt2\u001b[0m \u001b[0;34m=\u001b[0m \u001b[0minsert_order_items\u001b[0m\u001b[0;34m(\u001b[0m\u001b[0mcurrent_order_id\u001b[0m\u001b[0;34m,\u001b[0m \u001b[0mproduct_ids\u001b[0m\u001b[0;34m,\u001b[0m \u001b[0mquantities\u001b[0m\u001b[0;34m)\u001b[0m\u001b[0;34m\u001b[0m\u001b[0;34m\u001b[0m\u001b[0m\n\u001b[0m\u001b[1;32m     48\u001b[0m         \u001b[0mres\u001b[0m \u001b[0;34m=\u001b[0m \u001b[0mconn\u001b[0m\u001b[0;34m.\u001b[0m\u001b[0mexecute\u001b[0m\u001b[0;34m(\u001b[0m\u001b[0mstmt2\u001b[0m\u001b[0;34m)\u001b[0m\u001b[0;34m\u001b[0m\u001b[0;34m\u001b[0m\u001b[0m\n\u001b[1;32m     49\u001b[0m \u001b[0;34m\u001b[0m\u001b[0m\n",
            "\u001b[0;32m<ipython-input-2-3141910389>\u001b[0m in \u001b[0;36minsert_order_items\u001b[0;34m(order_id, product_ids, quantities)\u001b[0m\n\u001b[1;32m     34\u001b[0m \u001b[0;34m\u001b[0m\u001b[0m\n\u001b[1;32m     35\u001b[0m \u001b[0;32mdef\u001b[0m \u001b[0minsert_order_items\u001b[0m\u001b[0;34m(\u001b[0m\u001b[0morder_id\u001b[0m\u001b[0;34m:\u001b[0m\u001b[0mint\u001b[0m\u001b[0;34m,\u001b[0m \u001b[0mproduct_ids\u001b[0m\u001b[0;34m:\u001b[0m\u001b[0mlist\u001b[0m\u001b[0;34m,\u001b[0m \u001b[0mquantities\u001b[0m\u001b[0;34m:\u001b[0m\u001b[0mlist\u001b[0m\u001b[0;34m)\u001b[0m\u001b[0;34m:\u001b[0m\u001b[0;34m\u001b[0m\u001b[0;34m\u001b[0m\u001b[0m\n\u001b[0;32m---> 36\u001b[0;31m     \u001b[0;32mfor\u001b[0m \u001b[0mp\u001b[0m\u001b[0;34m,\u001b[0m\u001b[0mq\u001b[0m \u001b[0;32min\u001b[0m \u001b[0;34m(\u001b[0m\u001b[0mproduct_ids\u001b[0m\u001b[0;34m,\u001b[0m \u001b[0mquantities\u001b[0m\u001b[0;34m)\u001b[0m\u001b[0;34m:\u001b[0m\u001b[0;34m\u001b[0m\u001b[0;34m\u001b[0m\u001b[0m\n\u001b[0m\u001b[1;32m     37\u001b[0m         \u001b[0minsert_order_item\u001b[0m\u001b[0;34m(\u001b[0m\u001b[0morder_id\u001b[0m\u001b[0;34m,\u001b[0m\u001b[0mp\u001b[0m\u001b[0;34m,\u001b[0m\u001b[0mq\u001b[0m\u001b[0;34m)\u001b[0m\u001b[0;34m\u001b[0m\u001b[0;34m\u001b[0m\u001b[0m\n\u001b[1;32m     38\u001b[0m \u001b[0;34m\u001b[0m\u001b[0m\n",
            "\u001b[0;31mValueError\u001b[0m: not enough values to unpack (expected 2, got 1)"
          ]
        }
      ],
      "source": [
        "def insert_user(name, email):\n",
        "    \"\"\"res = result, stmt = statement, conn = connection\"\"\"\n",
        "    with engine.connect() as conn:\n",
        "        stmt = insert(users).values(name=name, email=email)\n",
        "        res = conn.execute(stmt)\n",
        "        conn.commit()\n",
        "        print(f\"✅ inserted user with ID: {res.lastrowid}\")\n",
        "\n",
        "insert_user('Wilson','wilson@hutapea.com')\n",
        "insert_user('Dwi','dwi@naibaho.com')\n",
        "\n",
        "def insert_product(name:str):\n",
        "    with engine.connect() as conn:\n",
        "        stmt = insert(products).values(name=name)\n",
        "        res = conn.execute(stmt)\n",
        "        conn.commit()\n",
        "        print(f\"✅ inserted product with ID: {res.lastrowid}\")\n",
        "\n",
        "def insert_products(names:list):\n",
        "    for n in names:\n",
        "        insert_product(n['name'])\n",
        "\n",
        "insert_products([\n",
        "    {'name':'Asus Laptop'},\n",
        "    {'name':'Lenovo Laptop'},\n",
        "    {'name':'Iphone Promag'}\n",
        "])\n",
        "\n",
        "def insert_order_item(order_id:int, product_id:int, quantity:int):\n",
        "    with engine.connect() as conn:\n",
        "        stmt = insert(order_items).values(order_id=order_id, product_id=product_id, quantity=quantity)\n",
        "        conn.execute(stmt)\n",
        "        conn.commit()\n",
        "\n",
        "def insert_order_items(order_id:int, product_ids:list, quantities:list):\n",
        "    for p,q in zip(product_ids, quantities):\n",
        "        insert_order_item(order_id,p,q)\n",
        "\n",
        "\n",
        "def insert_new_order(user_id:int, product_ids:list, quantities:list):\n",
        "    with engine.connect() as conn:\n",
        "        stmt = insert(orders).values(user_id=user_id)\n",
        "        res = conn.execute(stmt)\n",
        "        conn.commit()\n",
        "\n",
        "        current_order_id = res.lastrowid\n",
        "        stmt2 = insert_order_items(current_order_id, product_ids, quantities)\n",
        "        res = conn.execute(stmt2)\n",
        "\n",
        "        conn.commit()\n",
        "        print(f\"✅ inserted order with ID: {current_order_id}. Details:\\nUser ID: {user_id}\")\n",
        "        i = 1\n",
        "        for p,q in product_ids,quantities:\n",
        "            print(f\"    {i}. Ordered {q}x {p}\")\n",
        "            i+=1\n",
        "\n",
        "# class Order_item:\n",
        "#     product_id:str\n",
        "#     quantity:int\n",
        "\n",
        "#     def __init__(self, product_id:int, quantity:int):\n",
        "#         self.product_id=product_id\n",
        "#         self.quantity=quantity\n",
        "# order_item = Order_item()\n",
        "# insert_new_order(1,order_item)\n",
        "\n",
        "insert_new_order(1,[1],[1])\n",
        "insert_new_order(2,[2,3],[1,1])\n",
        "\n"
      ]
    },
    {
      "cell_type": "markdown",
      "metadata": {
        "id": "Wed24Ato3kcR"
      },
      "source": [
        "# READ"
      ]
    },
    {
      "cell_type": "markdown",
      "metadata": {
        "id": "hs8-Qw6PDVBc"
      },
      "source": [
        "### Define func to Read all users"
      ]
    },
    {
      "cell_type": "code",
      "execution_count": null,
      "metadata": {
        "colab": {
          "base_uri": "https://localhost:8080/"
        },
        "id": "amZRkrmLo-Rf",
        "outputId": "5fd4c34f-55ed-45c2-d844-bee22c817965"
      },
      "outputs": [
        {
          "name": "stdout",
          "output_type": "stream",
          "text": [
            "\n",
            "All users:\n",
            "ID: 1, Name: Wilson, Email: wilson@hutapea.com\n",
            "ID: 2, Name: Dwi, Email: dwi@naibaho.com\n"
          ]
        }
      ],
      "source": [
        "def get_all_users():\n",
        "    with engine.connect() as conn:\n",
        "        stmt = select(users)\n",
        "        res = conn.execute(stmt)\n",
        "\n",
        "        all_users = res.fetchall()\n",
        "    return all_users\n",
        "\n",
        "def print_all_users():\n",
        "    all_users = get_all_users()\n",
        "    print(\"\\nAll users:\")\n",
        "    for row in all_users:\n",
        "        print(f\"ID: {row.id}, Name: {row.name}, Email: {row.email}\")\n",
        "\n",
        "print_all_users()"
      ]
    },
    {
      "cell_type": "markdown",
      "metadata": {
        "id": "cXWljmXIAYM1"
      },
      "source": [
        "# $UPDATE$"
      ]
    },
    {
      "cell_type": "code",
      "execution_count": null,
      "metadata": {
        "colab": {
          "base_uri": "https://localhost:8080/"
        },
        "id": "K7AQrmrT0Y2K",
        "outputId": "147d1b65-4388-4ee7-ab0b-a266ae857a31"
      },
      "outputs": [
        {
          "name": "stdout",
          "output_type": "stream",
          "text": [
            "(1, 'Wilson', 'wilson5@hutapea.com')\n",
            "(2, 'Dwi', 'dwi@naibaho.com')\n",
            "\n",
            "Updated Products\n",
            "(1, 'Asus Laptop')\n",
            "(2, 'Lenovo Laptop')\n"
          ]
        }
      ],
      "source": [
        "with engine.connect() as conn:\n",
        "    stmt = update(users).where(users.c.email.ilike(\"%WILSON%\")).values(email='wilson5@hutapea.com')\n",
        "    conn.execute(stmt)\n",
        "    conn.commit()\n",
        "\n",
        "    # verify the update\n",
        "    stmt2 = select(users)\n",
        "    res2 = conn.execute(stmt2)\n",
        "    for r in res2:\n",
        "        print(r)\n",
        "\n",
        "with engine.connect() as conn:\n",
        "    stmt = delete(products).where(products.c.name == \"Iphone Promag\")\n",
        "    conn.execute(stmt)\n",
        "    conn.commit()\n",
        "\n",
        "    # verify the delete\n",
        "    stmt2 = select(products)\n",
        "    res = conn.execute(stmt2)\n",
        "    print(\"\\nUpdated Products\")\n",
        "    for r in res:\n",
        "        print(r)"
      ]
    },
    {
      "cell_type": "code",
      "execution_count": null,
      "metadata": {
        "id": "nqK5d0xRABVC"
      },
      "outputs": [],
      "source": []
    }
  ],
  "metadata": {
    "colab": {
      "provenance": []
    },
    "kernelspec": {
      "display_name": "base",
      "language": "python",
      "name": "python3"
    },
    "language_info": {
      "codemirror_mode": {
        "name": "ipython",
        "version": 3
      },
      "file_extension": ".py",
      "mimetype": "text/x-python",
      "name": "python",
      "nbconvert_exporter": "python",
      "pygments_lexer": "ipython3",
      "version": "3.12.7"
    }
  },
  "nbformat": 4,
  "nbformat_minor": 0
}
